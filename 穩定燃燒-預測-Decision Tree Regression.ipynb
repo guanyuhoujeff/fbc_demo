{
 "cells": [
  {
   "cell_type": "code",
   "execution_count": 20,
   "id": "87b4281a",
   "metadata": {},
   "outputs": [],
   "source": [
    "import pandas as pd\n",
    "import matplotlib.pyplot as plt\n",
    "import numpy as np\n",
    "\n",
    "from datetime import datetime\n",
    "\n",
    "from sklearn.tree import DecisionTreeRegressor\n",
    "from sklearn import tree\n",
    "\n",
    "import requests\n",
    "import io\n",
    "import ipywidgets as widgets\n",
    "from IPython.display import display, clear_output\n",
    "\n",
    "output = widgets.Output()\n",
    "\n",
    "from random import randrange\n",
    "import warnings\n",
    "warnings.filterwarnings('ignore')"
   ]
  },
  {
   "cell_type": "code",
   "execution_count": 21,
   "id": "d94b8048",
   "metadata": {},
   "outputs": [],
   "source": [
    "class ContentManager(object):\n",
    "    x_column_list = [ \"X%d\"%i for i in range(6, 11) ]\n",
    "    y_column_maplist = {\n",
    "        \"Y1 - 氧 O2\": 'Y1',\n",
    "        \"Y2 - 二氧化碳 CO2\": 'Y2',\n",
    "        \"Y3 - 一氧化碳 CO_6% O2\": 'Y3',\n",
    "        \"Y4 - 氮氧化合物 NOx_6% O2\": 'Y4',\n",
    "        \"Y5 - 二氧化硫 SO2\": \"Y5\"\n",
    "    }\n",
    "    y_column_name_maplist = {\n",
    "        'Y1': \"Y1 - 氧 O2\" ,\n",
    "        'Y2': \"Y2 - 二氧化碳 CO2\" ,\n",
    "        'Y3': \"Y3 - 一氧化碳 CO_6% O2\" ,\n",
    "        'Y4': \"Y4 - 氮氧化合物 NOx_6% O2\" ,\n",
    "        \"Y5\": \"Y5 - 二氧化硫 SO2\"\n",
    "    }\n",
    "\n",
    "    def __init__(self, origin_data):\n",
    "        ## 原始資料\n",
    "        self.origin_data = origin_data.copy()\n",
    "        #self.data = origin_data.copy()\n",
    "        \n",
    "        ## 測試期間\n",
    "        self.test_period = 30\n",
    "        \n",
    "        ## 移動窗格大小\n",
    "        self.moving_window_size = 360\n",
    "        \n",
    "        ## y 欄位\n",
    "        self.y_column = 'Y3'\n",
    "        \n",
    "        ## 決策樹深度參數\n",
    "        self.tree_max_depth = 3\n",
    "        \n",
    "        ## 參數初始化\n",
    "        self.setHyperParameter()\n",
    "        \n",
    "        self._model = None\n",
    "        \n",
    "        ## 畫圖的變數\n",
    "        self._fig = None\n",
    "        self._ax1 = None\n",
    "        self._ax2 = None\n",
    "        \n",
    "    def setHyperParameter(self):\n",
    "        data = self.origin_data.copy()\n",
    "\n",
    "        ##模型輸入特徵lag處理\n",
    "        self.feature_col = []\n",
    "        for log in range(self.moving_window_size+1):\n",
    "            ## y \n",
    "            if log>0:\n",
    "                _y_log = \"%s_%d\"%(self.y_column, log)\n",
    "                data[_y_log] = data[self.y_column].shift(log)\n",
    "                self.feature_col.append(_y_log)\n",
    "            \n",
    "            for x_column in self.x_column_list:\n",
    "                _x_log = \"%s_%d\"%(x_column, log)\n",
    "                data[_x_log] = data[x_column].shift(log)\n",
    "                self.feature_col.append(_x_log)\n",
    "                \n",
    "        data = data.dropna()\n",
    "        self.train_data = data.iloc[:-self.test_period,:]\n",
    "        self.test_data = data.iloc[-self.test_period:,:]\n",
    "        #print('Training index : ',  train_data.index[0], \"~\", train_data.index[-1])\n",
    "        #print('Testing  index : ',  test_data.index[0], \"~\", test_data.index[-1])\n",
    "        \n",
    "        self.train_y = self.train_data[[self.y_column]]\n",
    "        self.train_x = self.train_data[self.feature_col]\n",
    "        self.test_y  = self.test_data[[self.y_column]]\n",
    "        self.test_x  = self.test_data[self.feature_col]\n",
    "        \n",
    "    def testPeriodOnChange(self, change):\n",
    "        if change['name'] == 'value':\n",
    "            self.test_period = change['new']\n",
    "            \n",
    "    def movingWindowSizeOnChange(self, change):\n",
    "        if change['name'] == 'value':\n",
    "            self.moving_window_size = change['new']\n",
    "            \n",
    "    def treeMaxDepthOnChange(self, change):\n",
    "        if change['name'] == 'value':\n",
    "            self.tree_max_depth = change['new']\n",
    "\n",
    "    def yColumnOnChange(self, change):\n",
    "        if change['name'] == 'value':\n",
    "            self.y_column = self.y_column_maplist[change['new']]\n",
    "            \n",
    "    def dataProcessingButtonOnClick(self, button_event):\n",
    "        self.setHyperParameter()\n",
    "        \n",
    "    def modelPredictionButtonOnClick(self, button_event):\n",
    "        self._model = DecisionTreeRegressor(max_depth=self.tree_max_depth)\n",
    "        self._model.fit(\n",
    "            self.train_x.values, \n",
    "            self.train_y.values\n",
    "        )\n",
    "        \n",
    "    def showPredictionWidgetOnChange(self, change):\n",
    "        if change['name'] == 'value':\n",
    "            self.plotData(change['new'])\n",
    "        \n",
    "    def plotData(self, show_pred=True):\n",
    "        display_data = self.test_data\n",
    "        \n",
    "\n",
    "        self._fig, [self._ax1, self._ax2] = plt.subplots(2, 1, sharex=True, figsize=(20,10))\n",
    "        self._ax1.set_title(\"X\")\n",
    "        for i in range(6, 11):\n",
    "            self._ax1.plot(np.arange(display_data.shape[0]), display_data['X%d'%i], label = 'X%d'%i)  \n",
    "        self._ax1.grid(True)\n",
    "        self._ax1.legend()\n",
    "\n",
    "        self._ax2.set_title(self.y_column)\n",
    "        self._ax2.plot(np.arange(display_data.shape[0]), \n",
    "                 display_data[self.y_column], \n",
    "                 color = 'b', \n",
    "                 label = self.y_column,\n",
    "                 marker='o', \n",
    "                 linestyle='--')\n",
    "        if show_pred and not self._model is None:\n",
    "            test_prediction = self._model.predict(self.test_x.values)\n",
    "            self._ax2.plot(np.arange(display_data.shape[0]), \n",
    "                     test_prediction, \n",
    "                     color = 'red', \n",
    "                     label=f'{self.tree_max_depth}-pred', \n",
    "                     marker='o', \n",
    "                     linestyle='--')\n",
    "        self._ax2.grid(True)\n",
    "        self._ax2.legend()\n",
    "        self._fig.show()\n",
    "\n",
    "    def showFeatureImportances(self, top_k=10):\n",
    "        feature_importances = pd.DataFrame(\n",
    "            self._model.feature_importances_, \n",
    "            index=self.train_x.columns, \n",
    "            columns=['value']\n",
    "        ).sort_values('value', ascending=False)\n",
    "        \n",
    "        print(f'前{top_k}個重要的特徵')\n",
    "        plt.figure(figsize=(10,6))\n",
    "        for feature_name in feature_importances.head(top_k).index.values:\n",
    "            feature_value = feature_importances.loc[feature_name, 'value']\n",
    "            plt.bar(feature_name, feature_value)\n",
    "    \n",
    "    def showTree(self):\n",
    "        if self.tree_max_depth<5:\n",
    "            plt.figure(figsize=(40,20))\n",
    "            _ = tree.plot_tree(\n",
    "                self._model, \n",
    "                feature_names=self.train_x.columns,\n",
    "                filled=True\n",
    "            )\n",
    "        else:\n",
    "            print('圖太大了，畫不出來')\n",
    "            "
   ]
  },
  {
   "cell_type": "code",
   "execution_count": 35,
   "id": "702a3e8c",
   "metadata": {},
   "outputs": [],
   "source": [
    "class DisplayManager(object):\n",
    "    def __init__(self, output, content_manager):\n",
    "        self._output = output\n",
    "        self._content_manager = content_manager\n",
    "        \n",
    "        self._test_period_widget = widgets.IntText(\n",
    "            value=content_manager.test_period,\n",
    "            disabled=False\n",
    "        )\n",
    "        self._moving_window_size_widget = widgets.IntText(\n",
    "            value=content_manager.moving_window_size,\n",
    "            disabled=False\n",
    "        )\n",
    "        self._y_column_widget = widgets.RadioButtons(\n",
    "            options=list(content_manager.y_column_maplist.keys()),\n",
    "            value=content_manager.y_column_name_maplist[content_manager.y_column],\n",
    "            layout={'width': 'max-content'}\n",
    "        )\n",
    "        self._data_processing_button = widgets.Button(description=\"參數確認\")\n",
    "        self._model_prediction_button = widgets.Button(description=\"模型預測\")\n",
    "        \n",
    "        self._tree_max_depth_widget = widgets.IntText(\n",
    "            value=content_manager.tree_max_depth,\n",
    "            disabled=False\n",
    "        )\n",
    "        \n",
    "        self._show_prediction_widget = widgets.Checkbox(\n",
    "            value=False,\n",
    "            description='模型預測資料',\n",
    "            disabled=False,\n",
    "            indent=False\n",
    "        )\n",
    "        \n",
    "        ## observe event\n",
    "        self._test_period_widget.observe(content_manager.testPeriodOnChange)\n",
    "        self._moving_window_size_widget.observe(content_manager.movingWindowSizeOnChange)\n",
    "        self._y_column_widget.observe(content_manager.yColumnOnChange)\n",
    "        self._tree_max_depth_widget.observe(content_manager.treeMaxDepthOnChange)\n",
    "        \n",
    "        self._data_processing_button.on_click(content_manager.dataProcessingButtonOnClick)\n",
    "        \n",
    "        self._model_prediction_button.on_click(content_manager.modelPredictionButtonOnClick)\n",
    "        self._show_prediction_widget.observe(self._showPredictionWidgetOnChange)\n",
    "    \n",
    "    def _testPeriodOnChange(self, change):\n",
    "        if change['name'] == 'value':\n",
    "            self._content_manager.content_manager(change)\n",
    "        \n",
    "    def _showPredictionWidgetOnChange(self, change):\n",
    "        if change['name'] == 'value':\n",
    "            clear_output()\n",
    "            self._content_manager.showPredictionWidgetOnChange(change)\n",
    "            self.displayPreditionDashboard()\n",
    "        \n",
    "        \n",
    "        \n",
    "    def displayHyperParamDashboard(self):\n",
    "        display(widgets.Box([\n",
    "            widgets.Label(value='想預測幾筆：'),\n",
    "                self._test_period_widget,\n",
    "            widgets.Label(value='要考慮多少資料：'),\n",
    "                self._moving_window_size_widget\n",
    "        ]), self._output)\n",
    "        display(widgets.Box(\n",
    "            [\n",
    "                widgets.Label(value='想預測的欄位：'),\n",
    "                self._y_column_widget\n",
    "            ]\n",
    "        ), self._output)\n",
    "        display(widgets.Box(\n",
    "            [\n",
    "                widgets.Label(value='模型參數：'),\n",
    "                self._tree_max_depth_widget\n",
    "            ]\n",
    "        ), self._output)\n",
    "        display(self._data_processing_button, self._output)\n",
    "        \n",
    "    def displayTrainModel(self):\n",
    "        display(self._model_prediction_button, self._output)\n",
    "        \n",
    "    def displayPreditionDashboard(self):\n",
    "        display(widgets.Box([self._show_prediction_widget]), self._output)\n",
    "        #self._content_manager.plotData(self._show_prediction_widget.value)\n",
    "        \n",
    "\n",
    "\n",
    "origin_data = pd.read_csv(\n",
    "    io.StringIO(\n",
    "        requests.get('https://recognise.trendlink.io/model/fbc_demo.csv', verify=False).content.decode('utf-8')\n",
    "    )\n",
    ")\n",
    "content_manager = ContentManager(origin_data)\n",
    "display_manager = DisplayManager(output, content_manager)"
   ]
  },
  {
   "cell_type": "markdown",
   "id": "ef01f86a",
   "metadata": {},
   "source": [
    "<h1 align=\"center\">欄位介紹</h1>\n",
    "\n",
    "| X6   | X7  |X8  |X9  |X10  |\n",
    "|:----: | :----:  | :----:  | :----:  | :----:  |\n",
    "| 溫度1床材 | 溫度2爐下 | 溫度3爐中下 | 溫度4爐中上 | 溫度5爐上 |\n",
    "\n",
    "| Y1   | Y2  |Y3  |Y4  |Y5  |\n",
    "|:----: | :----:  | :----:  | :----:  | :----:  |\n",
    "| 氧 O2 % | 二氧化碳 CO2 % | 一氧化碳 CO_6% O2 (ppm)| 氮氧化合物 NOx_6% O2 (ppm)|二氧化硫 SO2 |"
   ]
  },
  {
   "cell_type": "code",
   "execution_count": 36,
   "id": "f49bf159",
   "metadata": {},
   "outputs": [
    {
     "data": {
      "text/html": [
       "<div>\n",
       "<style scoped>\n",
       "    .dataframe tbody tr th:only-of-type {\n",
       "        vertical-align: middle;\n",
       "    }\n",
       "\n",
       "    .dataframe tbody tr th {\n",
       "        vertical-align: top;\n",
       "    }\n",
       "\n",
       "    .dataframe thead th {\n",
       "        text-align: right;\n",
       "    }\n",
       "</style>\n",
       "<table border=\"1\" class=\"dataframe\">\n",
       "  <thead>\n",
       "    <tr style=\"text-align: right;\">\n",
       "      <th></th>\n",
       "      <th>X1</th>\n",
       "      <th>X2</th>\n",
       "      <th>X3</th>\n",
       "      <th>X4</th>\n",
       "      <th>X5</th>\n",
       "      <th>X6</th>\n",
       "      <th>X7</th>\n",
       "      <th>X8</th>\n",
       "      <th>X9</th>\n",
       "      <th>X10</th>\n",
       "      <th>Y1</th>\n",
       "      <th>Y2</th>\n",
       "      <th>Y3</th>\n",
       "      <th>Y4</th>\n",
       "      <th>Y5</th>\n",
       "    </tr>\n",
       "  </thead>\n",
       "  <tbody>\n",
       "    <tr>\n",
       "      <th>0</th>\n",
       "      <td>0</td>\n",
       "      <td>0</td>\n",
       "      <td>77</td>\n",
       "      <td>906</td>\n",
       "      <td>5</td>\n",
       "      <td>922.5</td>\n",
       "      <td>869.6</td>\n",
       "      <td>763.0</td>\n",
       "      <td>646.7</td>\n",
       "      <td>517.7</td>\n",
       "      <td>6.95</td>\n",
       "      <td>15.4</td>\n",
       "      <td>140.925267</td>\n",
       "      <td>253.024911</td>\n",
       "      <td>18</td>\n",
       "    </tr>\n",
       "    <tr>\n",
       "      <th>1</th>\n",
       "      <td>2</td>\n",
       "      <td>0</td>\n",
       "      <td>77</td>\n",
       "      <td>906</td>\n",
       "      <td>5</td>\n",
       "      <td>922.6</td>\n",
       "      <td>869.6</td>\n",
       "      <td>763.0</td>\n",
       "      <td>646.7</td>\n",
       "      <td>517.7</td>\n",
       "      <td>6.95</td>\n",
       "      <td>15.4</td>\n",
       "      <td>140.925267</td>\n",
       "      <td>253.024911</td>\n",
       "      <td>18</td>\n",
       "    </tr>\n",
       "    <tr>\n",
       "      <th>2</th>\n",
       "      <td>4</td>\n",
       "      <td>0</td>\n",
       "      <td>77</td>\n",
       "      <td>906</td>\n",
       "      <td>5</td>\n",
       "      <td>922.6</td>\n",
       "      <td>869.6</td>\n",
       "      <td>763.0</td>\n",
       "      <td>646.7</td>\n",
       "      <td>517.7</td>\n",
       "      <td>6.97</td>\n",
       "      <td>15.4</td>\n",
       "      <td>141.126158</td>\n",
       "      <td>253.385602</td>\n",
       "      <td>18</td>\n",
       "    </tr>\n",
       "    <tr>\n",
       "      <th>3</th>\n",
       "      <td>6</td>\n",
       "      <td>0</td>\n",
       "      <td>77</td>\n",
       "      <td>906</td>\n",
       "      <td>5</td>\n",
       "      <td>922.3</td>\n",
       "      <td>869.6</td>\n",
       "      <td>763.0</td>\n",
       "      <td>646.7</td>\n",
       "      <td>517.7</td>\n",
       "      <td>7.01</td>\n",
       "      <td>15.4</td>\n",
       "      <td>141.529664</td>\n",
       "      <td>255.182273</td>\n",
       "      <td>18</td>\n",
       "    </tr>\n",
       "    <tr>\n",
       "      <th>4</th>\n",
       "      <td>8</td>\n",
       "      <td>0</td>\n",
       "      <td>77</td>\n",
       "      <td>906</td>\n",
       "      <td>5</td>\n",
       "      <td>921.8</td>\n",
       "      <td>871.1</td>\n",
       "      <td>765.5</td>\n",
       "      <td>646.7</td>\n",
       "      <td>517.7</td>\n",
       "      <td>7.11</td>\n",
       "      <td>15.4</td>\n",
       "      <td>140.388769</td>\n",
       "      <td>257.019438</td>\n",
       "      <td>18</td>\n",
       "    </tr>\n",
       "  </tbody>\n",
       "</table>\n",
       "</div>"
      ],
      "text/plain": [
       "   X1  X2  X3   X4  X5     X6     X7     X8     X9    X10    Y1    Y2  \\\n",
       "0   0   0  77  906   5  922.5  869.6  763.0  646.7  517.7  6.95  15.4   \n",
       "1   2   0  77  906   5  922.6  869.6  763.0  646.7  517.7  6.95  15.4   \n",
       "2   4   0  77  906   5  922.6  869.6  763.0  646.7  517.7  6.97  15.4   \n",
       "3   6   0  77  906   5  922.3  869.6  763.0  646.7  517.7  7.01  15.4   \n",
       "4   8   0  77  906   5  921.8  871.1  765.5  646.7  517.7  7.11  15.4   \n",
       "\n",
       "           Y3          Y4  Y5  \n",
       "0  140.925267  253.024911  18  \n",
       "1  140.925267  253.024911  18  \n",
       "2  141.126158  253.385602  18  \n",
       "3  141.529664  255.182273  18  \n",
       "4  140.388769  257.019438  18  "
      ]
     },
     "execution_count": 36,
     "metadata": {},
     "output_type": "execute_result"
    }
   ],
   "source": [
    "origin_data.head()"
   ]
  },
  {
   "cell_type": "markdown",
   "id": "180167a6",
   "metadata": {},
   "source": [
    "# 看一下資料吧"
   ]
  },
  {
   "cell_type": "code",
   "execution_count": 37,
   "id": "76520210",
   "metadata": {},
   "outputs": [
    {
     "data": {
      "application/vnd.jupyter.widget-view+json": {
       "model_id": "8b3e8e4259e84d4e821b1a2544c57ca8",
       "version_major": 2,
       "version_minor": 0
      },
      "text/plain": [
       "Box(children=(Label(value='想預測幾筆：'), IntText(value=30), Label(value='要考慮多少資料：'), IntText(value=360)))"
      ]
     },
     "metadata": {},
     "output_type": "display_data"
    },
    {
     "data": {
      "application/vnd.jupyter.widget-view+json": {
       "model_id": "22b77ae596cb4e99bda20fcf3c5502ba",
       "version_major": 2,
       "version_minor": 0
      },
      "text/plain": [
       "Output()"
      ]
     },
     "metadata": {},
     "output_type": "display_data"
    },
    {
     "data": {
      "application/vnd.jupyter.widget-view+json": {
       "model_id": "eaf79d10b76746d0a0a4a08cb7e02781",
       "version_major": 2,
       "version_minor": 0
      },
      "text/plain": [
       "Box(children=(Label(value='想預測的欄位：'), RadioButtons(index=2, layout=Layout(width='max-content'), options=('Y1 -…"
      ]
     },
     "metadata": {},
     "output_type": "display_data"
    },
    {
     "data": {
      "application/vnd.jupyter.widget-view+json": {
       "model_id": "22b77ae596cb4e99bda20fcf3c5502ba",
       "version_major": 2,
       "version_minor": 0
      },
      "text/plain": [
       "Output()"
      ]
     },
     "metadata": {},
     "output_type": "display_data"
    },
    {
     "data": {
      "application/vnd.jupyter.widget-view+json": {
       "model_id": "8032d39d4f2a43dfbaa5532d6d186c95",
       "version_major": 2,
       "version_minor": 0
      },
      "text/plain": [
       "Box(children=(Label(value='模型參數：'), IntText(value=3)))"
      ]
     },
     "metadata": {},
     "output_type": "display_data"
    },
    {
     "data": {
      "application/vnd.jupyter.widget-view+json": {
       "model_id": "22b77ae596cb4e99bda20fcf3c5502ba",
       "version_major": 2,
       "version_minor": 0
      },
      "text/plain": [
       "Output()"
      ]
     },
     "metadata": {},
     "output_type": "display_data"
    },
    {
     "data": {
      "application/vnd.jupyter.widget-view+json": {
       "model_id": "d4f0aec4290848c9b8493d6afedca0f7",
       "version_major": 2,
       "version_minor": 0
      },
      "text/plain": [
       "Button(description='參數確認', style=ButtonStyle())"
      ]
     },
     "metadata": {},
     "output_type": "display_data"
    },
    {
     "data": {
      "application/vnd.jupyter.widget-view+json": {
       "model_id": "22b77ae596cb4e99bda20fcf3c5502ba",
       "version_major": 2,
       "version_minor": 0
      },
      "text/plain": [
       "Output()"
      ]
     },
     "metadata": {},
     "output_type": "display_data"
    },
    {
     "data": {
      "application/vnd.jupyter.widget-view+json": {
       "model_id": "78477e7531544f54b88c8d4aa1adfb6d",
       "version_major": 2,
       "version_minor": 0
      },
      "text/plain": [
       "Button(description='模型預測', style=ButtonStyle())"
      ]
     },
     "metadata": {},
     "output_type": "display_data"
    },
    {
     "data": {
      "application/vnd.jupyter.widget-view+json": {
       "model_id": "22b77ae596cb4e99bda20fcf3c5502ba",
       "version_major": 2,
       "version_minor": 0
      },
      "text/plain": [
       "Output()"
      ]
     },
     "metadata": {},
     "output_type": "display_data"
    }
   ],
   "source": [
    "display_manager.displayHyperParamDashboard()\n",
    "display_manager.displayTrainModel()"
   ]
  },
  {
   "cell_type": "code",
   "execution_count": 38,
   "id": "208054c0",
   "metadata": {},
   "outputs": [
    {
     "data": {
      "application/vnd.jupyter.widget-view+json": {
       "model_id": "7e4f1e6bf18a4c97845ef46f6bdccfae",
       "version_major": 2,
       "version_minor": 0
      },
      "text/plain": [
       "Box(children=(Checkbox(value=False, description='模型預測資料', indent=False),))"
      ]
     },
     "metadata": {},
     "output_type": "display_data"
    },
    {
     "data": {
      "application/vnd.jupyter.widget-view+json": {
       "model_id": "22b77ae596cb4e99bda20fcf3c5502ba",
       "version_major": 2,
       "version_minor": 0
      },
      "text/plain": [
       "Output()"
      ]
     },
     "metadata": {},
     "output_type": "display_data"
    },
    {
     "data": {
      "image/png": "[encoded data removed]",
      "text/plain": [
       "<Figure size 1440x720 with 2 Axes>"
      ]
     },
     "metadata": {
      "needs_background": "light"
     },
     "output_type": "display_data"
    }
   ],
   "source": [
    "display_manager.displayPreditionDashboard()\n",
    "content_manager.plotData()"
   ]
  },
  {
   "cell_type": "code",
   "execution_count": 8,
   "id": "dacb2778",
   "metadata": {
    "scrolled": false
   },
   "outputs": [
    {
     "name": "stdout",
     "output_type": "stream",
     "text": [
      "前10個重要的特徵\n"
     ]
    },
    {
     "data": {
      "image/png": "[encoded data removed]",
      "text/plain": [
       "<Figure size 720x432 with 1 Axes>"
      ]
     },
     "metadata": {
      "needs_background": "light"
     },
     "output_type": "display_data"
    }
   ],
   "source": [
    "content_manager.showFeatureImportances()"
   ]
  },
  {
   "cell_type": "code",
   "execution_count": 9,
   "id": "2927b5f2",
   "metadata": {
    "scrolled": false
   },
   "outputs": [
    {
     "name": "stdout",
     "output_type": "stream",
     "text": [
      "圖太大了，畫不出來\n"
     ]
    }
   ],
   "source": [
    "content_manager.showTree()"
   ]
  },
  {
   "cell_type": "code",
   "execution_count": null,
   "id": "84a14da8",
   "metadata": {},
   "outputs": [],
   "source": [
    "float_range_maplist = {}\n",
    "def makeFloatRangeSlider(col_name):\n",
    "    global float_range_maplist\n",
    "    \n",
    "    fr = widgets.FloatRangeSlider(\n",
    "    value=[data[col_name].quantile(0.25), data[col_name].quantile(0.75)],\n",
    "    min= data[col_name].min(),\n",
    "    max= data[col_name].max(),\n",
    "    step=0.1,\n",
    "    description=col_name,\n",
    "    disabled=False,\n",
    "    continuous_update=False,\n",
    "    orientation='horizontal',\n",
    "    readout=True,\n",
    "    readout_format='.1f')\n",
    "    \n",
    "    q_25 = np.round(data[col_name].quantile(0.25))\n",
    "    q_75 = np.round(data[col_name].quantile(0.75))\n",
    "    float_range_maplist[col_name] = np.array([\n",
    "        randrange(q_25*10, q_75*10, step=1)/10 for _ in range(moving_window_size+test_period)\n",
    "    ])\n",
    "    \n",
    "    return fr"
   ]
  },
  {
   "cell_type": "code",
   "execution_count": null,
   "id": "8320dd32",
   "metadata": {
    "scrolled": false
   },
   "outputs": [],
   "source": [
    "owner_ = None\n",
    "def handle_slider_change(change):\n",
    "    global owner_, float_range_maplist\n",
    "    if change['name'] == '_property_lock' and len(change['new'].keys()) == 0:\n",
    "        owner = change['owner']\n",
    "        owner_ = owner\n",
    "        float_range_maplist[owner_.description] = np.array(\n",
    "            [randrange(\n",
    "                np.round(owner_.value[0]*10), \n",
    "                np.round(owner_.value[1]*10), \n",
    "                step=1)/10 for _ in range(moving_window_size+test_period)]\n",
    "        )\n",
    "        #print('change: ', owner.description, 'value: ', owner.value)\n",
    "\n",
    "        clear_output()\n",
    "        displayRange()\n",
    "        displayPlot()\n",
    "        \n",
    "\n",
    "def displayPlot():\n",
    "    fig, [ax1, ax2] = plt.subplots(2, 1, sharex=True, figsize=(20,10))\n",
    "    ax1.set_title(\"X\")\n",
    "    for x_column in x_column_list:\n",
    "        ax1.plot(float_range_maplist[x_column][-test_period:], label = x_column) \n",
    "    ax1.grid(True)\n",
    "    ax1.legend()\n",
    "    ax2.set_title(y_column)\n",
    "    ax2.plot(float_range_maplist[y_column][-test_period:], label = y_column)\n",
    "    ax2.grid(True)\n",
    "    ax2.legend()\n",
    "    plt.show()\n",
    "    \n",
    "def displayRange():\n",
    "    display(X6_fr, output)\n",
    "    display(X7_fr, output)\n",
    "    display(X8_fr, output)\n",
    "    display(X9_fr, output)\n",
    "    display(X10_fr, output)\n",
    "    display(Y_fr, output)\n",
    "    \n",
    "X6_fr = makeFloatRangeSlider('X6')\n",
    "X7_fr = makeFloatRangeSlider('X7')\n",
    "X8_fr = makeFloatRangeSlider('X8')\n",
    "X9_fr = makeFloatRangeSlider('X9')\n",
    "X10_fr = makeFloatRangeSlider('X10')\n",
    "Y_fr = makeFloatRangeSlider(y_column)\n",
    "\n",
    "X6_fr.observe(handle_slider_change)\n",
    "X7_fr.observe(handle_slider_change)\n",
    "X8_fr.observe(handle_slider_change)\n",
    "X9_fr.observe(handle_slider_change)\n",
    "X10_fr.observe(handle_slider_change)\n",
    "Y_fr.observe(handle_slider_change)"
   ]
  },
  {
   "cell_type": "code",
   "execution_count": null,
   "id": "c4effe77",
   "metadata": {
    "scrolled": false
   },
   "outputs": [],
   "source": [
    "displayRange()\n",
    "displayPlot()"
   ]
  },
  {
   "cell_type": "code",
   "execution_count": null,
   "id": "e60f66f8",
   "metadata": {},
   "outputs": [],
   "source": [
    "float_range_table = pd.DataFrame(float_range_maplist)"
   ]
  },
  {
   "cell_type": "code",
   "execution_count": null,
   "id": "49be5dfd",
   "metadata": {},
   "outputs": [],
   "source": [
    "for x_ in x_column_list:\n",
    "    for log in range(moving_window_size+1):\n",
    "        float_range_table[\"%s_%d\"%(x_, log)] = float_range_table[x_].shift(log)\n",
    "\n",
    "for log in range(1, moving_window_size+1):\n",
    "    float_range_table[\"%s_%d\"%(y_column, log)] = float_range_table[y_column].shift(log)\n",
    "\n",
    "float_range_table = float_range_table.dropna()"
   ]
  },
  {
   "cell_type": "code",
   "execution_count": null,
   "id": "b982fad3",
   "metadata": {},
   "outputs": [],
   "source": [
    "# feature_col = []\n",
    "# for x_ in x_column_list:\n",
    "#     for log in range(moving_window_size+1): \n",
    "#         feature_col.append(\"%s_%d\"%(x_, log))\n",
    "        \n",
    "# for log in range(1, moving_window_size+1): \n",
    "#     feature_col.append(\"%s_%d\"%(y_, log)) "
   ]
  },
  {
   "cell_type": "code",
   "execution_count": null,
   "id": "799b7aa7",
   "metadata": {},
   "outputs": [],
   "source": [
    "val_y  = float_range_table[[y_column]]\n",
    "val_x  = float_range_table[feature_col]"
   ]
  },
  {
   "cell_type": "code",
   "execution_count": null,
   "id": "be71e0bf",
   "metadata": {},
   "outputs": [],
   "source": [
    "test_prediction = model.predict(val_x.values)\n",
    "plt.figure(figsize=(20,10))\n",
    "plt.plot(val_y.values, color = 'b', label = y_column) \n",
    "plt.plot(test_prediction, color = 'red', label='pred') \n",
    "plt.xlabel(\"time\")\n",
    "plt.ylabel(y_column)\n",
    "plt.title(\"Decision Tree Regression\")\n",
    "plt.legend()\n",
    "plt.show()"
   ]
  },
  {
   "cell_type": "code",
   "execution_count": 19,
   "id": "d3a84bdf",
   "metadata": {},
   "outputs": [
    {
     "data": {
      "application/vnd.jupyter.widget-view+json": {
       "model_id": "cd04ed0752054d6db047b3c7b52d0ee0",
       "version_major": 2,
       "version_minor": 0
      },
      "text/plain": [
       "Button(description='Click Me!', style=ButtonStyle())"
      ]
     },
     "metadata": {},
     "output_type": "display_data"
    },
    {
     "data": {
      "application/vnd.jupyter.widget-view+json": {
       "model_id": "86656b96df144700ac7322d07885844a",
       "version_major": 2,
       "version_minor": 0
      },
      "text/plain": [
       "Output()"
      ]
     },
     "metadata": {},
     "output_type": "display_data"
    }
   ],
   "source": [
    "def on_button_clicked(b):\n",
    "  # Display the message within the output widget.\n",
    "  print(\"Button clicked.\")\n",
    "\n",
    "button = widgets.Button(description=\"Click Me!\")\n",
    "button.on_click(on_button_clicked)\n",
    "display(button, output)"
   ]
  },
  {
   "cell_type": "code",
   "execution_count": null,
   "id": "62f8ff4f",
   "metadata": {},
   "outputs": [],
   "source": []
  }
 ],
 "metadata": {
  "kernelspec": {
   "display_name": "Python 3 (ipykernel)",
   "language": "python",
   "name": "python3"
  },
  "language_info": {
   "codemirror_mode": {
    "name": "ipython",
    "version": 3
   },
   "file_extension": ".py",
   "mimetype": "text/x-python",
   "name": "python",
   "nbconvert_exporter": "python",
   "pygments_lexer": "ipython3",
   "version": "3.8.11"
  }
 },
 "nbformat": 4,
 "nbformat_minor": 5
}
