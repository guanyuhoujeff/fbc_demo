{
 "cells": [
  {
   "cell_type": "code",
   "execution_count": null,
   "id": "dba28314",
   "metadata": {},
   "outputs": [],
   "source": [
    "import warnings\n",
    "warnings.filterwarnings('ignore')\n",
    "import ipywidgets as widgets\n",
    "output = widgets.Output()\n",
    "from utils import ContentManager, DisplayManager, getWindowWidth"
   ]
  },
  {
   "cell_type": "code",
   "execution_count": null,
   "id": "a02816ba",
   "metadata": {},
   "outputs": [],
   "source": [
    "content_manager = ContentManager(getWindowWidth())\n",
    "display_manager = DisplayManager(output, content_manager)\n",
    "content_manager.plotXDataDashboard()\n",
    "content_manager.plotYDataDashboard()"
   ]
  },
  {
   "cell_type": "markdown",
   "id": "180167a6",
   "metadata": {},
   "source": [
    "# 模型預測"
   ]
  },
  {
   "cell_type": "code",
   "execution_count": null,
   "id": "76520210",
   "metadata": {
    "scrolled": false
   },
   "outputs": [],
   "source": [
    "display_manager.displayHyperParamDashboard()\n",
    "content_manager.plotPredictionData()"
   ]
  },
  {
   "cell_type": "markdown",
   "id": "5bddc7e7",
   "metadata": {},
   "source": [
    "# 使用自己的資料"
   ]
  },
  {
   "cell_type": "code",
   "execution_count": null,
   "id": "3f61fde4",
   "metadata": {
    "scrolled": false
   },
   "outputs": [],
   "source": [
    "display_manager.displayValidDashboard()"
   ]
  },
  {
   "cell_type": "code",
   "execution_count": null,
   "id": "5c432c1e",
   "metadata": {},
   "outputs": [],
   "source": []
  }
 ],
 "metadata": {
  "kernelspec": {
   "display_name": "Python 3 (ipykernel)",
   "language": "python",
   "name": "python3"
  },
  "language_info": {
   "codemirror_mode": {
    "name": "ipython",
    "version": 3
   },
   "file_extension": ".py",
   "mimetype": "text/x-python",
   "name": "python",
   "nbconvert_exporter": "python",
   "pygments_lexer": "ipython3",
   "version": "3.8.11"
  }
 },
 "nbformat": 4,
 "nbformat_minor": 5
}
