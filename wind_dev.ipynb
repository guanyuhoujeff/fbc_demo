{
 "cells": [
  {
   "cell_type": "code",
   "execution_count": 1,
   "metadata": {},
   "outputs": [],
   "source": [
    "import pandas as pd\n",
    "import matplotlib.pyplot as plt\n",
    "import numpy as np\n",
    "from sklearn.tree import DecisionTreeRegressor\n",
    "from sklearn import tree\n",
    "import requests\n",
    "import io\n",
    "import ipywidgets as widgets\n",
    "output = widgets.Output()\n",
    "from IPython.display import display, clear_output, Javascript\n",
    "from random import randrange\n",
    "import plotly.express as px\n",
    "import plotly.graph_objects as go\n",
    "from plotly.subplots import make_subplots\n",
    "import warnings\n",
    "import time\n",
    "warnings.filterwarnings('ignore')"
   ]
  },
  {
   "cell_type": "code",
   "execution_count": 2,
   "metadata": {},
   "outputs": [],
   "source": [
    "\"\"\"本資料共計風速5個欄位；風向4個欄位\n",
    "逐十分鐘一筆\n",
    "統計資料區間 = 2021/08/01 00:00:01 ~ 2021/10/01 00:00:00\n",
    "\n",
    "\n",
    "欄位代碼解說：\n",
    "．儀器類型+高度_N分鐘統計數據\n",
    "．WS = Wind Speed（風速計，單位：m/s = 公尺/秒）\n",
    "．WD = Wind Direction（風向計，單位：度）\n",
    "．10mAVG = 10分鐘平均值\n",
    "\n",
    "例如：WS95A_10mAVG ，即代表「95公尺高度風速計A的10分鐘統計資料」\n",
    "※僅95公尺風速計有2支，所以最後會多帶有A、B之尾碼 \"\"\";"
   ]
  },
  {
   "cell_type": "code",
   "execution_count": 3,
   "metadata": {},
   "outputs": [],
   "source": [
    "data = pd.read_csv('./wind_demo.txt')"
   ]
  },
  {
   "cell_type": "code",
   "execution_count": 4,
   "metadata": {},
   "outputs": [],
   "source": [
    "feature_list = [\n",
    "    'WS10_10mAVG', \n",
    "#     'WS30_10mAVG', \n",
    "#     'WS50_10mAVG',\n",
    "#     'WS95A_10mAVG', \n",
    "#     'WS95B_10mAVG', \n",
    "    'WD10_10mAVG', \n",
    "#     'WD30_10mAVG',\n",
    "#     'WD50_10mAVG', \n",
    "#     'WD95_10mAVG'\n",
    "]"
   ]
  },
  {
   "cell_type": "code",
   "execution_count": 6,
   "metadata": {
    "scrolled": true
   },
   "outputs": [
    {
     "data": {
      "text/html": [
       "<div>\n",
       "<style scoped>\n",
       "    .dataframe tbody tr th:only-of-type {\n",
       "        vertical-align: middle;\n",
       "    }\n",
       "\n",
       "    .dataframe tbody tr th {\n",
       "        vertical-align: top;\n",
       "    }\n",
       "\n",
       "    .dataframe thead th {\n",
       "        text-align: right;\n",
       "    }\n",
       "</style>\n",
       "<table border=\"1\" class=\"dataframe\">\n",
       "  <thead>\n",
       "    <tr style=\"text-align: right;\">\n",
       "      <th></th>\n",
       "      <th>WS95A_10mAVG</th>\n",
       "      <th>WS95B_10mAVG</th>\n",
       "    </tr>\n",
       "  </thead>\n",
       "  <tbody>\n",
       "    <tr>\n",
       "      <th>WS95A_10mAVG</th>\n",
       "      <td>1.000000</td>\n",
       "      <td>0.998621</td>\n",
       "    </tr>\n",
       "    <tr>\n",
       "      <th>WS95B_10mAVG</th>\n",
       "      <td>0.998621</td>\n",
       "      <td>1.000000</td>\n",
       "    </tr>\n",
       "  </tbody>\n",
       "</table>\n",
       "</div>"
      ],
      "text/plain": [
       "              WS95A_10mAVG  WS95B_10mAVG\n",
       "WS95A_10mAVG      1.000000      0.998621\n",
       "WS95B_10mAVG      0.998621      1.000000"
      ]
     },
     "execution_count": 6,
     "metadata": {},
     "output_type": "execute_result"
    }
   ],
   "source": [
    "data[['WS95A_10mAVG', 'WS95B_10mAVG']].corr()"
   ]
  },
  {
   "cell_type": "code",
   "execution_count": null,
   "metadata": {},
   "outputs": [],
   "source": [
    "## 測試期間\n",
    "test_period = 30\n",
    "\n",
    "## 移動窗格大小\n",
    "moving_window_size = 360\n",
    "\n",
    "for x_col in feature_list:\n",
    "    for lag in range(moving_window_size):\n",
    "        data[f\"{x_col}_{lag}\"] = data[x_col].shift(lag)\n",
    "\n",
    "data =data.dropna()\n",
    "\n",
    "train_data = data.iloc[:-test_period,:]\n",
    "test_data = data.iloc[-test_period:,:]"
   ]
  },
  {
   "cell_type": "code",
   "execution_count": null,
   "metadata": {},
   "outputs": [],
   "source": [
    "x_column_list = []\n",
    "for x_col in feature_list:\n",
    "    for lag in range(1, moving_window_size):\n",
    "        x_column_list.append(f\"{x_col}_{lag}\")\n",
    "        \n",
    "y_column = feature_list[0]"
   ]
  },
  {
   "cell_type": "code",
   "execution_count": null,
   "metadata": {},
   "outputs": [],
   "source": [
    "train_y = train_data[[y_column]]\n",
    "train_x = train_data[x_column_list]\n",
    "\n",
    "test_y  = test_data[[y_column]]\n",
    "test_x  = test_data[x_column_list]"
   ]
  },
  {
   "cell_type": "code",
   "execution_count": null,
   "metadata": {
    "scrolled": false
   },
   "outputs": [],
   "source": [
    "# import matplotlib.pylab as plt\n",
    "\n",
    "\n",
    "# plt.figure(figsize=(40, 20))\n",
    "# plt.plot(data[feature])\n",
    "# plt.legend()\n",
    "# plt.show()"
   ]
  },
  {
   "cell_type": "code",
   "execution_count": null,
   "metadata": {},
   "outputs": [],
   "source": [
    "tree_max_depth = 4\n",
    "model = DecisionTreeRegressor(max_depth=tree_max_depth)"
   ]
  },
  {
   "cell_type": "code",
   "execution_count": null,
   "metadata": {},
   "outputs": [],
   "source": [
    "model.fit(\n",
    "    train_x.values,\n",
    "    train_y.values\n",
    ")"
   ]
  },
  {
   "cell_type": "code",
   "execution_count": null,
   "metadata": {},
   "outputs": [],
   "source": [
    "test_prediction = model.predict(test_x.values)"
   ]
  },
  {
   "cell_type": "code",
   "execution_count": null,
   "metadata": {},
   "outputs": [],
   "source": [
    "display_data = test_y.copy()\n",
    "display_data['pred'] = test_prediction\n",
    "display_data.index = range(test_y.shape[0])"
   ]
  },
  {
   "cell_type": "code",
   "execution_count": null,
   "metadata": {},
   "outputs": [],
   "source": [
    "plt.plot(display_data)"
   ]
  },
  {
   "cell_type": "code",
   "execution_count": null,
   "metadata": {
    "scrolled": true
   },
   "outputs": [],
   "source": [
    "top_k = 50\n",
    "feature_importances = pd.DataFrame(\n",
    "    model.feature_importances_, \n",
    "    index=train_x.columns, \n",
    "    columns=['value']\n",
    ").sort_values('value', ascending=False)\n",
    "feature_importances['name'] = feature_importances.index\n",
    "fig = px.pie(feature_importances.head(top_k), values='value',  names='name', title=f'前{top_k}個重要的特徵')\n",
    "fig.show()"
   ]
  },
  {
   "cell_type": "code",
   "execution_count": null,
   "metadata": {},
   "outputs": [],
   "source": [
    "from sklearn.metrics import mean_squared_error"
   ]
  },
  {
   "cell_type": "code",
   "execution_count": null,
   "metadata": {},
   "outputs": [],
   "source": [
    "df"
   ]
  },
  {
   "cell_type": "code",
   "execution_count": null,
   "metadata": {},
   "outputs": [],
   "source": [
    "import plotly.graph_objects as px\n",
    "import numpy\n",
    "\n",
    "\n",
    "# creating random data through randomint\n",
    "# function of numpy.random\n",
    "np.random.seed(42)\n",
    "\n",
    "random_x = np.random.randint(1, 101, 100)\n",
    "random_y = np.random.randint(1, 101, 100)\n",
    "\n",
    "x = ['A', 'B', 'C', 'D']\n",
    "\n",
    "plot = px.Figure(\n",
    "    data=[go.Bar(\n",
    "\tname='Data 1',\n",
    "\tx=x,\n",
    "\ty=[100, 200, 500, 673]\n",
    "),\n",
    "\tgo.Bar(\n",
    "\tname='Data 2',\n",
    "\tx=x,\n",
    "\ty=[56, 123, 982, 213]\n",
    ")\n",
    "])\n",
    "\n",
    "\n",
    "# Add dropdown\n",
    "plot.update_layout(\n",
    "\tupdatemenus=[\n",
    "\t\tdict(\n",
    "\t\t\ttype=\"buttons\",\n",
    "\t\t\tdirection=\"left\",\n",
    "\t\t\tbuttons=list([\n",
    "\t\t\t\tdict(label=\"Both\",\n",
    "\t\t\t\t\tmethod=\"update\",\n",
    "\t\t\t\t\targs=[{\"visible\": [True, True]},\n",
    "\t\t\t\t\t\t{\"title\": \"Both\"}]),\n",
    "\t\t\t\tdict(label=\"Data 1\",\n",
    "\t\t\t\t\tmethod=\"update\",\n",
    "\t\t\t\t\targs=[{\"visible\": [True, False]},\n",
    "\t\t\t\t\t\t{\"title\": \"Data 1\",\n",
    "\t\t\t\t\t\t\t}]),\n",
    "\t\t\t\tdict(label=\"Data 2\",\n",
    "\t\t\t\t\tmethod=\"update\",\n",
    "\t\t\t\t\targs=[{\"visible\": [False, True]},\n",
    "\t\t\t\t\t\t{\"title\": \"Data 2\",\n",
    "\t\t\t\t\t\t\t}]),\n",
    "\t\t\t]),\n",
    "\t\t)\n",
    "\t])\n",
    "\n",
    "plot.show()\n"
   ]
  },
  {
   "cell_type": "code",
   "execution_count": null,
   "metadata": {},
   "outputs": [],
   "source": []
  }
 ],
 "metadata": {
  "kernelspec": {
   "display_name": "Python 3",
   "language": "python",
   "name": "python3"
  },
  "language_info": {
   "codemirror_mode": {
    "name": "ipython",
    "version": 3
   },
   "file_extension": ".py",
   "mimetype": "text/x-python",
   "name": "python",
   "nbconvert_exporter": "python",
   "pygments_lexer": "ipython3",
   "version": "3.7.4"
  }
 },
 "nbformat": 4,
 "nbformat_minor": 2
}
